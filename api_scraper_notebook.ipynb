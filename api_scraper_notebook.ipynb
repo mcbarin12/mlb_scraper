{
 "cells": [
  {
   "cell_type": "markdown",
   "metadata": {},
   "source": [
    "# MLB Scraper\n",
    "\n",
    "This Python module provides a class `MLB_Scrape` that interacts with the MLB Stats API to retrieve various types of baseball-related data. The data is processed and returned as Polars DataFrames for easy manipulation and analysis.\n",
    "\n",
    "## Requirements\n",
    "\n",
    "- Python 3.x\n",
    "- `requests` library\n",
    "- `polars` library\n",
    "- `numpy` library\n",
    "- `tqdm` library\n",
    "- `pytz` library\n",
    "\n",
    "You can install the required libraries using pip:\n",
    "\n",
    "```sh \n",
    "pip install requests polars numpy tqdm pytz\n",
    "```"
   ]
  },
  {
   "cell_type": "markdown",
   "metadata": {},
   "source": [
    "## Usage"
   ]
  },
  {
   "cell_type": "markdown",
   "metadata": {},
   "source": [
    "Import the MLB_Scrape class from the module and Initialize the scraper"
   ]
  },
  {
   "cell_type": "code",
   "execution_count": 2,
   "metadata": {},
   "outputs": [],
   "source": [
    "# Import the MLB_Scrape class from the module\n",
    "from api_scraper import MLB_Scrape\n",
    "\n",
    "# Initialize the scraper\n",
    "scraper = MLB_Scrape()"
   ]
  },
  {
   "cell_type": "markdown",
   "metadata": {},
   "source": [
    "#### get_sport_id()\n",
    "\n",
    "Retrieves the list of sports from the MLB API and processes it into a Polars DataFrame."
   ]
  },
  {
   "cell_type": "code",
   "execution_count": 3,
   "metadata": {},
   "outputs": [
    {
     "name": "stdout",
     "output_type": "stream",
     "text": [
      "shape: (18, 7)\n",
      "┌──────┬──────┬─────────────────────┬────────────────────┬──────────────┬───────────┬──────────────┐\n",
      "│ id   ┆ code ┆ link                ┆ name               ┆ abbreviation ┆ sortOrder ┆ activeStatus │\n",
      "│ ---  ┆ ---  ┆ ---                 ┆ ---                ┆ ---          ┆ ---       ┆ ---          │\n",
      "│ i64  ┆ str  ┆ str                 ┆ str                ┆ str          ┆ i64       ┆ bool         │\n",
      "╞══════╪══════╪═════════════════════╪════════════════════╪══════════════╪═══════════╪══════════════╡\n",
      "│ 1    ┆ mlb  ┆ /api/v1/sports/1    ┆ Major League       ┆ MLB          ┆ 11        ┆ true         │\n",
      "│      ┆      ┆                     ┆ Baseball           ┆              ┆           ┆              │\n",
      "│ 11   ┆ aaa  ┆ /api/v1/sports/11   ┆ Triple-A           ┆ AAA          ┆ 101       ┆ true         │\n",
      "│ 12   ┆ aax  ┆ /api/v1/sports/12   ┆ Double-A           ┆ AA           ┆ 201       ┆ true         │\n",
      "│ 13   ┆ afa  ┆ /api/v1/sports/13   ┆ High-A             ┆ A+           ┆ 301       ┆ true         │\n",
      "│ 14   ┆ afx  ┆ /api/v1/sports/14   ┆ Single-A           ┆ A            ┆ 401       ┆ true         │\n",
      "│ …    ┆ …    ┆ …                   ┆ …                  ┆ …            ┆ …         ┆ …            │\n",
      "│ 509  ┆ nae  ┆ /api/v1/sports/509  ┆ International      ┆ 18U          ┆ 3503      ┆ true         │\n",
      "│      ┆      ┆                     ┆ Baseball (18U)     ┆              ┆           ┆              │\n",
      "│ 510  ┆ nas  ┆ /api/v1/sports/510  ┆ International      ┆ 16U          ┆ 3505      ┆ true         │\n",
      "│      ┆      ┆                     ┆ Baseball (16 and…  ┆              ┆           ┆              │\n",
      "│ 6005 ┆ ame  ┆ /api/v1/sports/6005 ┆ International      ┆ AME          ┆ 3509      ┆ true         │\n",
      "│      ┆      ┆                     ┆ Baseball (amateu…  ┆              ┆           ┆              │\n",
      "│ 22   ┆ bbc  ┆ /api/v1/sports/22   ┆ College Baseball   ┆ College      ┆ 5101      ┆ true         │\n",
      "│ 586  ┆ hsb  ┆ /api/v1/sports/586  ┆ High School        ┆ H.S.         ┆ 6201      ┆ true         │\n",
      "│      ┆      ┆                     ┆ Baseball           ┆              ┆           ┆              │\n",
      "└──────┴──────┴─────────────────────┴────────────────────┴──────────────┴───────────┴──────────────┘\n"
     ]
    }
   ],
   "source": [
    "# Call the get_sport_id method\n",
    "sport_ids = scraper.get_sport_id()\n",
    "print(sport_ids)"
   ]
  },
  {
   "cell_type": "markdown",
   "metadata": {},
   "source": [
    "##### get_sport_id_check()\n",
    "Checks if the provided sport ID exists in the list of sports retrieved from the MLB API."
   ]
  },
  {
   "cell_type": "code",
   "execution_count": 4,
   "metadata": {},
   "outputs": [
    {
     "name": "stdout",
     "output_type": "stream",
     "text": [
      "True\n"
     ]
    }
   ],
   "source": [
    "# Call the get_sport_id_check method\n",
    "is_valid = scraper.get_sport_id_check(sport_id=1)\n",
    "print(is_valid)\n"
   ]
  },
  {
   "cell_type": "markdown",
   "metadata": {},
   "source": [
    "##### get_schedule()\n",
    "Retrieves the schedule of baseball games based on the specified parameters."
   ]
  },
  {
   "cell_type": "code",
   "execution_count": 6,
   "metadata": {},
   "outputs": [
    {
     "name": "stdout",
     "output_type": "stream",
     "text": [
      "shape: (2_430, 8)\n",
      "┌─────────┬──────────┬────────────┬───────────────┬──────────────┬───────┬──────────┬──────────────┐\n",
      "│ game_id ┆ time     ┆ date       ┆ away          ┆ home         ┆ state ┆ venue_id ┆ venue_name   │\n",
      "│ ---     ┆ ---      ┆ ---        ┆ ---           ┆ ---          ┆ ---   ┆ ---      ┆ ---          │\n",
      "│ i64     ┆ str      ┆ date       ┆ str           ┆ str          ┆ str   ┆ i64      ┆ str          │\n",
      "╞═════════╪══════════╪════════════╪═══════════════╪══════════════╪═══════╪══════════╪══════════════╡\n",
      "│ 745444  ┆ 06:05 AM ┆ 2024-03-20 ┆ Los Angeles   ┆ San Diego    ┆ F     ┆ 5150     ┆ Gocheok Sky  │\n",
      "│         ┆          ┆            ┆ Dodgers       ┆ Padres       ┆       ┆          ┆ Dome         │\n",
      "│ 746175  ┆ 06:05 AM ┆ 2024-03-21 ┆ San Diego     ┆ Los Angeles  ┆ F     ┆ 5150     ┆ Gocheok Sky  │\n",
      "│         ┆          ┆            ┆ Padres        ┆ Dodgers      ┆       ┆          ┆ Dome         │\n",
      "│ 746418  ┆ 04:10 PM ┆ 2024-03-28 ┆ New York      ┆ Houston      ┆ F     ┆ 2392     ┆ Minute Maid  │\n",
      "│         ┆          ┆            ┆ Yankees       ┆ Astros       ┆       ┆          ┆ Park         │\n",
      "│ 746335  ┆ 04:10 PM ┆ 2024-03-28 ┆ Minnesota     ┆ Kansas City  ┆ F     ┆ 7        ┆ Kauffman     │\n",
      "│         ┆          ┆            ┆ Twins         ┆ Royals       ┆       ┆          ┆ Stadium      │\n",
      "│ 746165  ┆ 04:10 PM ┆ 2024-03-28 ┆ St. Louis     ┆ Los Angeles  ┆ F     ┆ 22       ┆ Dodger       │\n",
      "│         ┆          ┆            ┆ Cardinals     ┆ Dodgers      ┆       ┆          ┆ Stadium      │\n",
      "│ …       ┆ …        ┆ …          ┆ …             ┆ …            ┆ …     ┆ …        ┆ …            │\n",
      "│ 744880  ┆ 03:07 PM ┆ 2024-09-29 ┆ Miami Marlins ┆ Toronto Blue ┆ S     ┆ 14       ┆ Rogers       │\n",
      "│         ┆          ┆            ┆               ┆ Jays         ┆       ┆          ┆ Centre       │\n",
      "│ 746577  ┆ 03:10 PM ┆ 2024-09-29 ┆ Houston       ┆ Cleveland    ┆ S     ┆ 5        ┆ Progressive  │\n",
      "│         ┆          ┆            ┆ Astros        ┆ Guardians    ┆       ┆          ┆ Field        │\n",
      "│ 745282  ┆ 03:05 PM ┆ 2024-09-29 ┆ St. Louis     ┆ San          ┆ S     ┆ 2395     ┆ Oracle Park  │\n",
      "│         ┆          ┆            ┆ Cardinals     ┆ Francisco    ┆       ┆          ┆              │\n",
      "│         ┆          ┆            ┆               ┆ Giants       ┆       ┆          ┆              │\n",
      "│ 747147  ┆ 03:10 PM ┆ 2024-09-29 ┆ San Diego     ┆ Arizona      ┆ S     ┆ 15       ┆ Chase Field  │\n",
      "│         ┆          ┆            ┆ Padres        ┆ Diamondbacks ┆       ┆          ┆              │\n",
      "│ 745932  ┆ 03:10 PM ┆ 2024-09-29 ┆ New York Mets ┆ Milwaukee    ┆ S     ┆ 32       ┆ American     │\n",
      "│         ┆          ┆            ┆               ┆ Brewers      ┆       ┆          ┆ Family Field │\n",
      "└─────────┴──────────┴────────────┴───────────────┴──────────────┴───────┴──────────┴──────────────┘\n"
     ]
    }
   ],
   "source": [
    "# Call the get_schedule method\n",
    "schedule = scraper.get_schedule(year_input=[2024], sport_id=[1], game_type=['R'])\n",
    "print(schedule)"
   ]
  },
  {
   "cell_type": "markdown",
   "metadata": {},
   "source": [
    "#### get_data() and get_data_df()\n",
    "\n",
    "Retrieves live game data for a list of game IDs and Converts a list of game data JSON objects into a Polars DataFrame."
   ]
  },
  {
   "cell_type": "code",
   "execution_count": 8,
   "metadata": {},
   "outputs": [
    {
     "name": "stdout",
     "output_type": "stream",
     "text": [
      "This May Take a While. Progress Bar shows Completion of Data Retrieval.\n"
     ]
    },
    {
     "name": "stderr",
     "output_type": "stream",
     "text": [
      "Processing: 100%|██████████| 1/1 [00:00<00:00,  4.05iteration/s]"
     ]
    },
    {
     "name": "stdout",
     "output_type": "stream",
     "text": [
      "Converting Data to Dataframe.\n",
      "shape: (304, 78)\n",
      "┌─────────┬────────────┬───────────┬──────────────┬───┬────────────┬─────┬────────────┬────────────┐\n",
      "│ game_id ┆ game_date  ┆ batter_id ┆ batter_name  ┆ … ┆ event_type ┆ rbi ┆ away_score ┆ home_score │\n",
      "│ ---     ┆ ---        ┆ ---       ┆ ---          ┆   ┆ ---        ┆ --- ┆ ---        ┆ ---        │\n",
      "│ i64     ┆ str        ┆ i64       ┆ str          ┆   ┆ str        ┆ f64 ┆ f64        ┆ f64        │\n",
      "╞═════════╪════════════╪═══════════╪══════════════╪═══╪════════════╪═════╪════════════╪════════════╡\n",
      "│ 745444  ┆ 2024-03-20 ┆ 605141    ┆ Mookie Betts ┆ … ┆ NaN        ┆ NaN ┆ NaN        ┆ NaN        │\n",
      "│ 745444  ┆ 2024-03-20 ┆ 605141    ┆ Mookie Betts ┆ … ┆ NaN        ┆ NaN ┆ NaN        ┆ NaN        │\n",
      "│ 745444  ┆ 2024-03-20 ┆ 605141    ┆ Mookie Betts ┆ … ┆ NaN        ┆ NaN ┆ NaN        ┆ NaN        │\n",
      "│ 745444  ┆ 2024-03-20 ┆ 605141    ┆ Mookie Betts ┆ … ┆ NaN        ┆ NaN ┆ NaN        ┆ NaN        │\n",
      "│ 745444  ┆ 2024-03-20 ┆ 605141    ┆ Mookie Betts ┆ … ┆ walk       ┆ 0.0 ┆ 0.0        ┆ 0.0        │\n",
      "│ …       ┆ …          ┆ …         ┆ …            ┆ … ┆ …          ┆ …   ┆ …          ┆ …          │\n",
      "│ 745444  ┆ 2024-03-20 ┆ 688363    ┆ Graham       ┆ … ┆ NaN        ┆ NaN ┆ NaN        ┆ NaN        │\n",
      "│         ┆            ┆           ┆ Pauley       ┆   ┆            ┆     ┆            ┆            │\n",
      "│ 745444  ┆ 2024-03-20 ┆ 688363    ┆ Graham       ┆ … ┆ strikeout  ┆ 0.0 ┆ 5.0        ┆ 2.0        │\n",
      "│         ┆            ┆           ┆ Pauley       ┆   ┆            ┆     ┆            ┆            │\n",
      "│ 745444  ┆ 2024-03-20 ┆ 669134    ┆ Luis         ┆ … ┆ NaN        ┆ NaN ┆ NaN        ┆ NaN        │\n",
      "│         ┆            ┆           ┆ Campusano    ┆   ┆            ┆     ┆            ┆            │\n",
      "│ 745444  ┆ 2024-03-20 ┆ 669134    ┆ Luis         ┆ … ┆ NaN        ┆ NaN ┆ NaN        ┆ NaN        │\n",
      "│         ┆            ┆           ┆ Campusano    ┆   ┆            ┆     ┆            ┆            │\n",
      "│ 745444  ┆ 2024-03-20 ┆ 669134    ┆ Luis         ┆ … ┆ field_out  ┆ 0.0 ┆ 5.0        ┆ 2.0        │\n",
      "│         ┆            ┆           ┆ Campusano    ┆   ┆            ┆     ┆            ┆            │\n",
      "└─────────┴────────────┴───────────┴──────────────┴───┴────────────┴─────┴────────────┴────────────┘\n"
     ]
    },
    {
     "name": "stderr",
     "output_type": "stream",
     "text": [
      "\n"
     ]
    }
   ],
   "source": [
    "# Call the get_data method\n",
    "game_data = scraper.get_data(game_list_input=[745444])\n",
    "# Call the get_data_df method\n",
    "data_df = scraper.get_data_df(data_list=game_data)\n",
    "print(data_df)"
   ]
  },
  {
   "cell_type": "markdown",
   "metadata": {},
   "source": [
    "#### get_teams()\n",
    "\n",
    "Retrieves information about MLB teams from the MLB API and processes it into a Polars DataFrame."
   ]
  },
  {
   "cell_type": "code",
   "execution_count": 9,
   "metadata": {},
   "outputs": [
    {
     "name": "stdout",
     "output_type": "stream",
     "text": [
      "shape: (741, 10)\n",
      "┌─────────┬────────────┬───────────┬───────────┬───┬───────────┬───────────┬───────────┬───────────┐\n",
      "│ team_id ┆ city       ┆ name      ┆ franchise ┆ … ┆ parent_or ┆ league_id ┆ league_na ┆ parent_or │\n",
      "│ ---     ┆ ---        ┆ ---       ┆ ---       ┆   ┆ g         ┆ ---       ┆ me        ┆ g_abbrevi │\n",
      "│ i64     ┆ str        ┆ str       ┆ str       ┆   ┆ ---       ┆ i64       ┆ ---       ┆ ation     │\n",
      "│         ┆            ┆           ┆           ┆   ┆ str       ┆           ┆ str       ┆ ---       │\n",
      "│         ┆            ┆           ┆           ┆   ┆           ┆           ┆           ┆ str       │\n",
      "╞═════════╪════════════╪═══════════╪═══════════╪═══╪═══════════╪═══════════╪═══════════╪═══════════╡\n",
      "│ 100     ┆ Georgia    ┆ Yellow    ┆ Georgia   ┆ … ┆ Office of ┆ 107       ┆ College   ┆ null      │\n",
      "│         ┆ Tech       ┆ Jackets   ┆ Tech      ┆   ┆ the Commi ┆           ┆ Baseball  ┆           │\n",
      "│         ┆ Yellow     ┆           ┆ Yellow    ┆   ┆ ssioner   ┆           ┆           ┆           │\n",
      "│         ┆ Jackets    ┆           ┆ Jackets   ┆   ┆           ┆           ┆           ┆           │\n",
      "│ 101     ┆ Florida    ┆ Seminoles ┆ Florida   ┆ … ┆ Office of ┆ 107       ┆ College   ┆ null      │\n",
      "│         ┆ State      ┆           ┆ State     ┆   ┆ the Commi ┆           ┆ Baseball  ┆           │\n",
      "│         ┆ Seminoles  ┆           ┆ Seminoles ┆   ┆ ssioner   ┆           ┆           ┆           │\n",
      "│ 102     ┆ Round Rock ┆ Express   ┆ Round     ┆ … ┆ Texas     ┆ 112       ┆ Pacific   ┆ TEX       │\n",
      "│         ┆ Express    ┆           ┆ Rock      ┆   ┆ Rangers   ┆           ┆ Coast     ┆           │\n",
      "│         ┆            ┆           ┆ Express   ┆   ┆           ┆           ┆ League    ┆           │\n",
      "│ 103     ┆ Lake       ┆ Storm     ┆ Lake      ┆ … ┆ San Diego ┆ 110       ┆ Californi ┆ SD        │\n",
      "│         ┆ Elsinore   ┆           ┆ Elsinore  ┆   ┆ Padres    ┆           ┆ a League  ┆           │\n",
      "│         ┆ Storm      ┆           ┆ Storm     ┆   ┆           ┆           ┆           ┆           │\n",
      "│ 105     ┆ Sacramento ┆ River     ┆ Sacrament ┆ … ┆ San       ┆ 112       ┆ Pacific   ┆ SF        │\n",
      "│         ┆ River Cats ┆ Cats      ┆ o River   ┆   ┆ Francisco ┆           ┆ Coast     ┆           │\n",
      "│         ┆            ┆           ┆ Cats      ┆   ┆ Giants    ┆           ┆ League    ┆           │\n",
      "│ …       ┆ …          ┆ …         ┆ …         ┆ … ┆ …         ┆ …         ┆ …         ┆ …         │\n",
      "│ 6328    ┆ Pepperdine ┆ Waves     ┆ Pepperdin ┆ … ┆ Office of ┆ 107       ┆ College   ┆ null      │\n",
      "│         ┆ Waves      ┆           ┆ e Waves   ┆   ┆ the Commi ┆           ┆ Baseball  ┆           │\n",
      "│         ┆            ┆           ┆           ┆   ┆ ssioner   ┆           ┆           ┆           │\n",
      "│ 6329    ┆ Pacific    ┆ Tigers    ┆ Pacific   ┆ … ┆ Office of ┆ 107       ┆ College   ┆ null      │\n",
      "│         ┆ Tigers     ┆           ┆ Tigers    ┆   ┆ the Commi ┆           ┆ Baseball  ┆           │\n",
      "│         ┆            ┆           ┆           ┆   ┆ ssioner   ┆           ┆           ┆           │\n",
      "│ 6330    ┆ Alabama-Bi ┆ Blazers   ┆ Alabama-B ┆ … ┆ Office of ┆ 107       ┆ College   ┆ null      │\n",
      "│         ┆ rmingham   ┆           ┆ irmingham ┆   ┆ the Commi ┆           ┆ Baseball  ┆           │\n",
      "│         ┆ Blazers    ┆           ┆ Blazers   ┆   ┆ ssioner   ┆           ┆           ┆           │\n",
      "│ 6331    ┆ Texas-San  ┆ Roadrunne ┆ Texas-San ┆ … ┆ Office of ┆ 107       ┆ College   ┆ null      │\n",
      "│         ┆ Antonio    ┆ rs        ┆ Antonio   ┆   ┆ the Commi ┆           ┆ Baseball  ┆           │\n",
      "│         ┆ Roadrunner ┆           ┆ Roadrunne ┆   ┆ ssioner   ┆           ┆           ┆           │\n",
      "│         ┆ s          ┆           ┆ rs        ┆   ┆           ┆           ┆           ┆           │\n",
      "│ 6333    ┆ Ashland    ┆ Eagles    ┆ Ashland   ┆ … ┆ Office of ┆ 107       ┆ College   ┆ null      │\n",
      "│         ┆ Eagles     ┆           ┆ Eagles    ┆   ┆ the Commi ┆           ┆ Baseball  ┆           │\n",
      "│         ┆            ┆           ┆           ┆   ┆ ssioner   ┆           ┆           ┆           │\n",
      "└─────────┴────────────┴───────────┴───────────┴───┴───────────┴───────────┴───────────┴───────────┘\n"
     ]
    }
   ],
   "source": [
    "# Call the get_teams method\n",
    "teams = scraper.get_teams()\n",
    "print(teams)"
   ]
  },
  {
   "cell_type": "markdown",
   "metadata": {},
   "source": [
    "#### get_leagues()\n",
    "Retrieves information about MLB leagues from the MLB API and processes it into a Polars DataFrame."
   ]
  },
  {
   "cell_type": "code",
   "execution_count": 10,
   "metadata": {},
   "outputs": [
    {
     "name": "stdout",
     "output_type": "stream",
     "text": [
      "shape: (116, 4)\n",
      "┌───────────┬────────────────────────┬─────────────────────┬──────────┐\n",
      "│ league_id ┆ league_name            ┆ league_abbreviation ┆ sport_id │\n",
      "│ ---       ┆ ---                    ┆ ---                 ┆ ---      │\n",
      "│ i64       ┆ str                    ┆ str                 ┆ i64      │\n",
      "╞═══════════╪════════════════════════╪═════════════════════╪══════════╡\n",
      "│ 103       ┆ American League        ┆ AL                  ┆ 1        │\n",
      "│ 104       ┆ National League        ┆ NL                  ┆ 1        │\n",
      "│ 114       ┆ Cactus League          ┆ CL                  ┆ null     │\n",
      "│ 115       ┆ Grapefruit League      ┆ GL                  ┆ null     │\n",
      "│ 117       ┆ International League   ┆ INT                 ┆ 11       │\n",
      "│ …         ┆ …                      ┆ …                   ┆ …        │\n",
      "│ 107       ┆ College Baseball       ┆ CBB                 ┆ 22       │\n",
      "│ 108       ┆ College Baseball       ┆ CBB                 ┆ 22       │\n",
      "│ 587       ┆ Showcase Games         ┆ SG                  ┆ 586      │\n",
      "│ 625       ┆ Tournament 12          ┆ T12                 ┆ null     │\n",
      "│ 577       ┆ National Pro Fastpitch ┆ NPF                 ┆ 576      │\n",
      "└───────────┴────────────────────────┴─────────────────────┴──────────┘\n"
     ]
    }
   ],
   "source": [
    "# Call the get_leagues method\n",
    "leagues = scraper.get_leagues()\n",
    "print(leagues)"
   ]
  },
  {
   "cell_type": "markdown",
   "metadata": {},
   "source": [
    "#### get_player_games_list()\n",
    "Retrieves a list of game IDs for a specific player in a given season."
   ]
  },
  {
   "cell_type": "code",
   "execution_count": 17,
   "metadata": {},
   "outputs": [
    {
     "name": "stdout",
     "output_type": "stream",
     "text": [
      "[746418, 746412, 746410, 746413, 747218, 747220, 747219, 745764, 745766, 745765, 745761, 745762, 745763, 746656, 746658, 746648, 744951, 744944, 744948, 745758, 745760, 745759, 745757, 745754, 745753, 745755, 746000, 745998, 746001, 747046, 747047, 747048, 747044, 745756, 745750, 745751, 745752, 745749, 745748, 745094, 745096, 745092, 745909, 745908, 745907, 745747, 745744, 745745, 745746, 745742, 745743, 745741, 745415, 745411, 745413, 746229, 746228, 746225, 745331, 745332, 745330, 745739, 745740, 745738, 745737, 745735, 745736, 746296, 746294, 746299, 746947, 746946, 746945, 745733, 745734, 745729, 745731, 745727, 745806, 745808, 744919, 744922, 744921, 744916, 745730, 745728, 745726, 745725, 745724, 745723, 745074, 745069, 745065, 747012, 747013, 747009, 745721, 745720, 745722, 745717, 745715, 745716, 746933, 746931, 746929, 745547, 745546, 745543, 745719, 745714, 745718, 745709, 745713, 745710, 745712, 745708, 745711, 746762, 746757, 746759, 746438, 746434, 746431, 745707, 745704, 745705, 745702, 745703, 745706, 744813, 744811, 744809, 745700, 745699, 745701, 744972, 744968, 744964]\n"
     ]
    }
   ],
   "source": [
    "# Call the get_player_games_list method\n",
    "player_games = scraper.get_player_games_list(player_id=592450, season=2024)\n",
    "print(player_games)"
   ]
  },
  {
   "cell_type": "markdown",
   "metadata": {},
   "source": [
    "#### get_game_types()\n",
    "Retrieves the different types of MLB games from the MLB API and processes them into a Polars DataFrame."
   ]
  },
  {
   "cell_type": "code",
   "execution_count": 15,
   "metadata": {},
   "outputs": [
    {
     "name": "stdout",
     "output_type": "stream",
     "text": [
      "shape: (12, 2)\n",
      "┌─────┬────────────────────────────┐\n",
      "│ id  ┆ description                │\n",
      "│ --- ┆ ---                        │\n",
      "│ str ┆ str                        │\n",
      "╞═════╪════════════════════════════╡\n",
      "│ S   ┆ Spring Training            │\n",
      "│ R   ┆ Regular Season             │\n",
      "│ F   ┆ Wild Card Game             │\n",
      "│ D   ┆ Division Series            │\n",
      "│ L   ┆ League Championship Series │\n",
      "│ …   ┆ …                          │\n",
      "│ N   ┆ Nineteenth Century Series  │\n",
      "│ P   ┆ Playoffs                   │\n",
      "│ A   ┆ All-Star Game              │\n",
      "│ I   ┆ Intrasquad                 │\n",
      "│ E   ┆ Exhibition                 │\n",
      "└─────┴────────────────────────────┘\n"
     ]
    }
   ],
   "source": [
    "# Call the get_game_types method\n",
    "game_types = scraper.get_game_types()\n",
    "print(game_types)"
   ]
  },
  {
   "cell_type": "markdown",
   "metadata": {},
   "source": [
    "## Example"
   ]
  },
  {
   "cell_type": "markdown",
   "metadata": {},
   "source": [
    "In this example we will return all the pitch-by-pitch data for Bryce Miller in the 2024 MLB Regular Season"
   ]
  },
  {
   "cell_type": "code",
   "execution_count": 42,
   "metadata": {},
   "outputs": [
    {
     "name": "stdout",
     "output_type": "stream",
     "text": [
      "This May Take a While. Progress Bar shows Completion of Data Retrieval.\n"
     ]
    },
    {
     "name": "stderr",
     "output_type": "stream",
     "text": [
      "Processing: 100%|██████████| 27/27 [00:04<00:00,  5.51iteration/s]\n"
     ]
    },
    {
     "name": "stdout",
     "output_type": "stream",
     "text": [
      "Converting Data to Dataframe.\n",
      "shape: (7_896, 78)\n",
      "┌─────────┬────────────┬───────────┬──────────────┬───┬────────────┬─────┬────────────┬────────────┐\n",
      "│ game_id ┆ game_date  ┆ batter_id ┆ batter_name  ┆ … ┆ event_type ┆ rbi ┆ away_score ┆ home_score │\n",
      "│ ---     ┆ ---        ┆ ---       ┆ ---          ┆   ┆ ---        ┆ --- ┆ ---        ┆ ---        │\n",
      "│ i64     ┆ str        ┆ i64       ┆ str          ┆   ┆ str        ┆ f64 ┆ f64        ┆ f64        │\n",
      "╞═════════╪════════════╪═══════════╪══════════════╪═══╪════════════╪═════╪════════════╪════════════╡\n",
      "│ 745279  ┆ 2024-03-31 ┆ 680776    ┆ Jarren Duran ┆ … ┆ NaN        ┆ NaN ┆ NaN        ┆ NaN        │\n",
      "│ 745279  ┆ 2024-03-31 ┆ 680776    ┆ Jarren Duran ┆ … ┆ NaN        ┆ NaN ┆ NaN        ┆ NaN        │\n",
      "│ 745279  ┆ 2024-03-31 ┆ 680776    ┆ Jarren Duran ┆ … ┆ NaN        ┆ NaN ┆ NaN        ┆ NaN        │\n",
      "│ 745279  ┆ 2024-03-31 ┆ 680776    ┆ Jarren Duran ┆ … ┆ strikeout  ┆ 0.0 ┆ 0.0        ┆ 0.0        │\n",
      "│ 745279  ┆ 2024-03-31 ┆ 646240    ┆ Rafael       ┆ … ┆ NaN        ┆ NaN ┆ NaN        ┆ NaN        │\n",
      "│         ┆            ┆           ┆ Devers       ┆   ┆            ┆     ┆            ┆            │\n",
      "│ …       ┆ …          ┆ …         ┆ …            ┆ … ┆ …          ┆ …   ┆ …          ┆ …          │\n",
      "│ 746183  ┆ 2024-09-01 ┆ 668942    ┆ Josh Rojas   ┆ … ┆ NaN        ┆ NaN ┆ NaN        ┆ NaN        │\n",
      "│ 746183  ┆ 2024-09-01 ┆ 668942    ┆ Josh Rojas   ┆ … ┆ NaN        ┆ NaN ┆ NaN        ┆ NaN        │\n",
      "│ 746183  ┆ 2024-09-01 ┆ 668942    ┆ Josh Rojas   ┆ … ┆ NaN        ┆ NaN ┆ NaN        ┆ NaN        │\n",
      "│ 746183  ┆ 2024-09-01 ┆ 668942    ┆ Josh Rojas   ┆ … ┆ NaN        ┆ NaN ┆ NaN        ┆ NaN        │\n",
      "│ 746183  ┆ 2024-09-01 ┆ 668942    ┆ Josh Rojas   ┆ … ┆ strikeout  ┆ 0.0 ┆ 2.0        ┆ 3.0        │\n",
      "└─────────┴────────────┴───────────┴──────────────┴───┴────────────┴─────┴────────────┴────────────┘\n"
     ]
    }
   ],
   "source": [
    "import polars as pl\n",
    "# Tarik Skubal Player Id\n",
    "player_id = 682243\n",
    "season = 2024\n",
    "\n",
    "# Get Game IDs for Bryce Miler\n",
    "player_games = scraper.get_player_games_list(player_id=player_id, season=season)\n",
    "\n",
    "# Get Data for Bryce Miler\n",
    "data = scraper.get_data(game_list_input=player_games)\n",
    "df = scraper.get_data_df(data_list=data)\n",
    "# Print the data\n",
    "print(df)"
   ]
  },
  {
   "cell_type": "markdown",
   "metadata": {},
   "source": [
    "With the DataFrame, we can filter only pitches thrown by Bryce Miller this season and then group by pitch type to get the metrics for each pitch.\n",
    "\n",
    "We will be getting the following metrics:\n",
    "- pitches: Number of Pitches\n",
    "- start_speed: Initial Velocity of the Pitch (mph)\n",
    "- ivb: Induced Vertical Break (in)\n",
    "- hb: Horizontal Break (in)\n",
    "- spin_rate: Spin Rate (rpm)"
   ]
  },
  {
   "cell_type": "code",
   "execution_count": 64,
   "metadata": {},
   "outputs": [
    {
     "name": "stdout",
     "output_type": "stream",
     "text": [
      "shape: (7, 8)\n",
      "┌────────────┬────────────┬─────────┬─────────────┬──────┬───────┬───────────┬────────────┐\n",
      "│ pitcher_id ┆ pitch_type ┆ pitches ┆ start_speed ┆ ivb  ┆ hb    ┆ spin_rate ┆ proportion │\n",
      "│ ---        ┆ ---        ┆ ---     ┆ ---         ┆ ---  ┆ ---   ┆ ---       ┆ ---        │\n",
      "│ i64        ┆ str        ┆ u32     ┆ f64         ┆ f64  ┆ f64   ┆ f64       ┆ f64        │\n",
      "╞════════════╪════════════╪═════════╪═════════════╪══════╪═══════╪═══════════╪════════════╡\n",
      "│ 682243     ┆ FF         ┆ 1014    ┆ 95.1        ┆ 18.2 ┆ 6.4   ┆ 2481.0    ┆ 0.428      │\n",
      "│ 682243     ┆ SI         ┆ 414     ┆ 94.7        ┆ 10.8 ┆ 16.0  ┆ 2404.0    ┆ 0.175      │\n",
      "│ 682243     ┆ FS         ┆ 393     ┆ 84.3        ┆ -0.1 ┆ 9.5   ┆ 867.0     ┆ 0.166      │\n",
      "│ 682243     ┆ ST         ┆ 212     ┆ 82.3        ┆ -5.3 ┆ -14.9 ┆ 2253.0    ┆ 0.09       │\n",
      "│ 682243     ┆ SL         ┆ 192     ┆ 86.7        ┆ 1.5  ┆ -3.2  ┆ 2534.0    ┆ 0.081      │\n",
      "│ 682243     ┆ KC         ┆ 95      ┆ 85.1        ┆ -6.5 ┆ -1.6  ┆ 2322.0    ┆ 0.04       │\n",
      "│ 682243     ┆ FC         ┆ 48      ┆ 91.9        ┆ 12.5 ┆ -0.5  ┆ 2534.0    ┆ 0.02       │\n",
      "└────────────┴────────────┴─────────┴─────────────┴──────┴───────┴───────────┴────────────┘\n"
     ]
    }
   ],
   "source": [
    "# Group the data by pitch type\n",
    "grouped_df = (\n",
    "    df.filter(pl.col(\"pitcher_id\") == player_id)\n",
    "    .group_by(['pitcher_id', 'pitch_type'])\n",
    "    .agg([\n",
    "        pl.col('is_pitch').drop_nans().count().alias('pitches'),\n",
    "        pl.col('start_speed').drop_nans().mean().round(1).alias('start_speed'),\n",
    "        pl.col('ivb').drop_nans().mean().round(1).alias('ivb'),\n",
    "        pl.col('hb').drop_nans().mean().round(1).alias('hb'),\n",
    "        pl.col('spin_rate').drop_nans().mean().round(0).alias('spin_rate'),\n",
    "    ])\n",
    "    .with_columns(\n",
    "        (pl.col('pitches') / pl.col('pitches').sum().over('pitcher_id')).round(3).alias('proportion')\n",
    "    )\n",
    "    ).sort('proportion', descending=True)\n",
    "\n",
    "# Display the grouped DataFrame\n",
    "print(grouped_df)"
   ]
  }
 ],
 "metadata": {
  "kernelspec": {
   "display_name": "Python 3",
   "language": "python",
   "name": "python3"
  },
  "language_info": {
   "codemirror_mode": {
    "name": "ipython",
    "version": 3
   },
   "file_extension": ".py",
   "mimetype": "text/x-python",
   "name": "python",
   "nbconvert_exporter": "python",
   "pygments_lexer": "ipython3",
   "version": "3.9.13"
  }
 },
 "nbformat": 4,
 "nbformat_minor": 2
}
