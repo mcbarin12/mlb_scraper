{
 "cells": [
  {
   "cell_type": "markdown",
   "metadata": {
    "id": "zYB5zBojqcLS"
   },
   "source": [
    "# MLB Scraper\n",
    "\n",
    "This Python module provides a class `MLB_Scrape` that interacts with the MLB Stats API to retrieve various types of baseball-related data. The data is processed and returned as Polars DataFrames for easy manipulation and analysis.\n",
    "\n",
    "## Requirements\n",
    "\n",
    "- Python 3.x\n",
    "- `requests` library\n",
    "- `polars` library\n",
    "- `numpy` library\n",
    "- `tqdm` library\n",
    "- `pytz` library\n",
    "\n",
    "You can install the required libraries using pip:\n",
    "\n",
    "```sh\n",
    "pip install requests polars numpy tqdm pytz\n",
    "```"
   ]
  },
  {
   "cell_type": "markdown",
   "metadata": {
    "id": "QvK-VjS9qcLV"
   },
   "source": [
    "## Usage"
   ]
  },
  {
   "cell_type": "markdown",
   "metadata": {
    "id": "ymSBBAEKqcLV"
   },
   "source": [
    "Import the MLB_Scrape class from the module and Initialize the scraper"
   ]
  },
  {
   "cell_type": "code",
   "execution_count": 1,
   "metadata": {
    "executionInfo": {
     "elapsed": 452,
     "status": "ok",
     "timestamp": 1726588170102,
     "user": {
      "displayName": "Thomas Nestico",
      "userId": "11737412841197753986"
     },
     "user_tz": 240
    },
    "id": "kDUDHodlqcLV"
   },
   "outputs": [],
   "source": [
    "# Import the MLB_Scrape class from the module\n",
    "from api_scraper import MLB_Scrape\n",
    "\n",
    "# Initialize the scraper\n",
    "scraper = MLB_Scrape()"
   ]
  },
  {
   "cell_type": "markdown",
   "metadata": {
    "id": "xxM-5RcYqcLW"
   },
   "source": [
    "#### get_sport_id()\n",
    "\n",
    "Retrieves the list of sports from the MLB Stats API and processes it into a Polars DataFrame."
   ]
  },
  {
   "cell_type": "code",
   "execution_count": 2,
   "metadata": {
    "colab": {
     "base_uri": "https://localhost:8080/"
    },
    "executionInfo": {
     "elapsed": 182,
     "status": "ok",
     "timestamp": 1726588170279,
     "user": {
      "displayName": "Thomas Nestico",
      "userId": "11737412841197753986"
     },
     "user_tz": 240
    },
    "id": "mzheARDGqcLW",
    "outputId": "e7c99862-cc14-47d7-df32-88cb250bf48b"
   },
   "outputs": [
    {
     "name": "stdout",
     "output_type": "stream",
     "text": [
      "shape: (18, 7)\n",
      "┌──────┬──────┬─────────────────────┬────────────────────┬──────────────┬───────────┬──────────────┐\n",
      "│ id   ┆ code ┆ link                ┆ name               ┆ abbreviation ┆ sortOrder ┆ activeStatus │\n",
      "│ ---  ┆ ---  ┆ ---                 ┆ ---                ┆ ---          ┆ ---       ┆ ---          │\n",
      "│ i64  ┆ str  ┆ str                 ┆ str                ┆ str          ┆ i64       ┆ bool         │\n",
      "╞══════╪══════╪═════════════════════╪════════════════════╪══════════════╪═══════════╪══════════════╡\n",
      "│ 1    ┆ mlb  ┆ /api/v1/sports/1    ┆ Major League       ┆ MLB          ┆ 11        ┆ true         │\n",
      "│      ┆      ┆                     ┆ Baseball           ┆              ┆           ┆              │\n",
      "│ 11   ┆ aaa  ┆ /api/v1/sports/11   ┆ Triple-A           ┆ AAA          ┆ 101       ┆ true         │\n",
      "│ 12   ┆ aax  ┆ /api/v1/sports/12   ┆ Double-A           ┆ AA           ┆ 201       ┆ true         │\n",
      "│ 13   ┆ afa  ┆ /api/v1/sports/13   ┆ High-A             ┆ A+           ┆ 301       ┆ true         │\n",
      "│ 14   ┆ afx  ┆ /api/v1/sports/14   ┆ Single-A           ┆ A            ┆ 401       ┆ true         │\n",
      "│ …    ┆ …    ┆ …                   ┆ …                  ┆ …            ┆ …         ┆ …            │\n",
      "│ 509  ┆ nae  ┆ /api/v1/sports/509  ┆ International      ┆ 18U          ┆ 3503      ┆ true         │\n",
      "│      ┆      ┆                     ┆ Baseball (18U)     ┆              ┆           ┆              │\n",
      "│ 510  ┆ nas  ┆ /api/v1/sports/510  ┆ International      ┆ 16U          ┆ 3505      ┆ true         │\n",
      "│      ┆      ┆                     ┆ Baseball (16 and…  ┆              ┆           ┆              │\n",
      "│ 6005 ┆ ame  ┆ /api/v1/sports/6005 ┆ International      ┆ AME          ┆ 3509      ┆ true         │\n",
      "│      ┆      ┆                     ┆ Baseball (amateu…  ┆              ┆           ┆              │\n",
      "│ 22   ┆ bbc  ┆ /api/v1/sports/22   ┆ College Baseball   ┆ College      ┆ 5101      ┆ true         │\n",
      "│ 586  ┆ hsb  ┆ /api/v1/sports/586  ┆ High School        ┆ H.S.         ┆ 6201      ┆ true         │\n",
      "│      ┆      ┆                     ┆ Baseball           ┆              ┆           ┆              │\n",
      "└──────┴──────┴─────────────────────┴────────────────────┴──────────────┴───────────┴──────────────┘\n"
     ]
    }
   ],
   "source": [
    "# Call the get_sport_id method\n",
    "sport_ids = scraper.get_sport_id()\n",
    "print(sport_ids)"
   ]
  },
  {
   "cell_type": "markdown",
   "metadata": {
    "id": "pcj_-M73qcLX"
   },
   "source": [
    "##### get_sport_id_check()\n",
    "Checks if the provided sport ID exists in the list of sports retrieved from the MLB Stats API."
   ]
  },
  {
   "cell_type": "code",
   "execution_count": 3,
   "metadata": {
    "colab": {
     "base_uri": "https://localhost:8080/"
    },
    "executionInfo": {
     "elapsed": 2,
     "status": "ok",
     "timestamp": 1726588170279,
     "user": {
      "displayName": "Thomas Nestico",
      "userId": "11737412841197753986"
     },
     "user_tz": 240
    },
    "id": "zKlNBReRqcLX",
    "outputId": "09eabf9c-ad2f-441a-a4b3-cd96c8c24728"
   },
   "outputs": [
    {
     "name": "stdout",
     "output_type": "stream",
     "text": [
      "True\n"
     ]
    }
   ],
   "source": [
    "# Call the get_sport_id_check method\n",
    "is_valid = scraper.get_sport_id_check(sport_id=1)\n",
    "print(is_valid)\n"
   ]
  },
  {
   "cell_type": "markdown",
   "metadata": {
    "id": "WqJxL72TqcLX"
   },
   "source": [
    "##### get_schedule()\n",
    "Retrieves the schedule of baseball games based on the specified parameters."
   ]
  },
  {
   "cell_type": "code",
   "execution_count": 4,
   "metadata": {
    "colab": {
     "base_uri": "https://localhost:8080/"
    },
    "executionInfo": {
     "elapsed": 636,
     "status": "ok",
     "timestamp": 1726588170914,
     "user": {
      "displayName": "Thomas Nestico",
      "userId": "11737412841197753986"
     },
     "user_tz": 240
    },
    "id": "kcM6w2U0qcLY",
    "outputId": "adea3081-4e30-422b-b30d-0b2012dbdae8"
   },
   "outputs": [
    {
     "name": "stdout",
     "output_type": "stream",
     "text": [
      "shape: (2_430, 8)\n",
      "┌─────────┬──────────┬────────────┬───────────────┬──────────────┬───────┬──────────┬──────────────┐\n",
      "│ game_id ┆ time     ┆ date       ┆ away          ┆ home         ┆ state ┆ venue_id ┆ venue_name   │\n",
      "│ ---     ┆ ---      ┆ ---        ┆ ---           ┆ ---          ┆ ---   ┆ ---      ┆ ---          │\n",
      "│ i64     ┆ str      ┆ date       ┆ str           ┆ str          ┆ str   ┆ i64      ┆ str          │\n",
      "╞═════════╪══════════╪════════════╪═══════════════╪══════════════╪═══════╪══════════╪══════════════╡\n",
      "│ 745444  ┆ 06:05 AM ┆ 2024-03-20 ┆ Los Angeles   ┆ San Diego    ┆ F     ┆ 5150     ┆ Gocheok Sky  │\n",
      "│         ┆          ┆            ┆ Dodgers       ┆ Padres       ┆       ┆          ┆ Dome         │\n",
      "│ 746175  ┆ 06:05 AM ┆ 2024-03-21 ┆ San Diego     ┆ Los Angeles  ┆ F     ┆ 5150     ┆ Gocheok Sky  │\n",
      "│         ┆          ┆            ┆ Padres        ┆ Dodgers      ┆       ┆          ┆ Dome         │\n",
      "│ 746418  ┆ 04:10 PM ┆ 2024-03-28 ┆ New York      ┆ Houston      ┆ F     ┆ 2392     ┆ Minute Maid  │\n",
      "│         ┆          ┆            ┆ Yankees       ┆ Astros       ┆       ┆          ┆ Park         │\n",
      "│ 746335  ┆ 04:10 PM ┆ 2024-03-28 ┆ Minnesota     ┆ Kansas City  ┆ F     ┆ 7        ┆ Kauffman     │\n",
      "│         ┆          ┆            ┆ Twins         ┆ Royals       ┆       ┆          ┆ Stadium      │\n",
      "│ 746165  ┆ 04:10 PM ┆ 2024-03-28 ┆ St. Louis     ┆ Los Angeles  ┆ F     ┆ 22       ┆ Dodger       │\n",
      "│         ┆          ┆            ┆ Cardinals     ┆ Dodgers      ┆       ┆          ┆ Stadium      │\n",
      "│ …       ┆ …        ┆ …          ┆ …             ┆ …            ┆ …     ┆ …        ┆ …            │\n",
      "│ 745282  ┆ 03:05 PM ┆ 2024-09-29 ┆ St. Louis     ┆ San          ┆ F     ┆ 2395     ┆ Oracle Park  │\n",
      "│         ┆          ┆            ┆ Cardinals     ┆ Francisco    ┆       ┆          ┆              │\n",
      "│         ┆          ┆            ┆               ┆ Giants       ┆       ┆          ┆              │\n",
      "│ 745932  ┆ 03:10 PM ┆ 2024-09-29 ┆ New York Mets ┆ Milwaukee    ┆ F     ┆ 32       ┆ American     │\n",
      "│         ┆          ┆            ┆               ┆ Brewers      ┆       ┆          ┆ Family Field │\n",
      "│ 747147  ┆ 03:10 PM ┆ 2024-09-29 ┆ San Diego     ┆ Arizona      ┆ F     ┆ 15       ┆ Chase Field  │\n",
      "│         ┆          ┆            ┆ Padres        ┆ Diamondbacks ┆       ┆          ┆              │\n",
      "│ 747064  ┆ 07:20 PM ┆ 2024-09-30 ┆ New York Mets ┆ Atlanta      ┆ D     ┆ 4705     ┆ Truist Park  │\n",
      "│         ┆          ┆            ┆               ┆ Braves       ┆       ┆          ┆              │\n",
      "│ 747139  ┆ 07:20 PM ┆ 2024-09-30 ┆ New York Mets ┆ Atlanta      ┆ D     ┆ 4705     ┆ Truist Park  │\n",
      "│         ┆          ┆            ┆               ┆ Braves       ┆       ┆          ┆              │\n",
      "└─────────┴──────────┴────────────┴───────────────┴──────────────┴───────┴──────────┴──────────────┘\n"
     ]
    }
   ],
   "source": [
    "# Call the get_schedule method\n",
    "schedule = scraper.get_schedule(year_input=[2024], sport_id=[1], game_type=['R'])\n",
    "print(schedule)"
   ]
  },
  {
   "cell_type": "code",
   "execution_count": 5,
   "metadata": {},
   "outputs": [
    {
     "name": "stdout",
     "output_type": "stream",
     "text": [
      "This May Take a While. Progress Bar shows Completion of Data Retrieval.\n"
     ]
    },
    {
     "name": "stderr",
     "output_type": "stream",
     "text": [
      "Processing: 100%|██████████| 1/1 [00:00<00:00,  5.46iteration/s]"
     ]
    },
    {
     "name": "stdout",
     "output_type": "stream",
     "text": [
      "Converting Data to Dataframe.\n",
      "shape: (304, 78)\n",
      "┌─────────┬────────────┬───────────┬─────────────┬───┬────────────┬──────┬────────────┬────────────┐\n",
      "│ game_id ┆ game_date  ┆ batter_id ┆ batter_name ┆ … ┆ event_type ┆ rbi  ┆ away_score ┆ home_score │\n",
      "│ ---     ┆ ---        ┆ ---       ┆ ---         ┆   ┆ ---        ┆ ---  ┆ ---        ┆ ---        │\n",
      "│ i64     ┆ str        ┆ i64       ┆ str         ┆   ┆ str        ┆ i64  ┆ i64        ┆ i64        │\n",
      "╞═════════╪════════════╪═══════════╪═════════════╪═══╪════════════╪══════╪════════════╪════════════╡\n",
      "│ 745444  ┆ 2024-03-20 ┆ 605141    ┆ Mookie      ┆ … ┆ null       ┆ null ┆ null       ┆ null       │\n",
      "│         ┆            ┆           ┆ Betts       ┆   ┆            ┆      ┆            ┆            │\n",
      "│ 745444  ┆ 2024-03-20 ┆ 605141    ┆ Mookie      ┆ … ┆ null       ┆ null ┆ null       ┆ null       │\n",
      "│         ┆            ┆           ┆ Betts       ┆   ┆            ┆      ┆            ┆            │\n",
      "│ 745444  ┆ 2024-03-20 ┆ 605141    ┆ Mookie      ┆ … ┆ null       ┆ null ┆ null       ┆ null       │\n",
      "│         ┆            ┆           ┆ Betts       ┆   ┆            ┆      ┆            ┆            │\n",
      "│ 745444  ┆ 2024-03-20 ┆ 605141    ┆ Mookie      ┆ … ┆ null       ┆ null ┆ null       ┆ null       │\n",
      "│         ┆            ┆           ┆ Betts       ┆   ┆            ┆      ┆            ┆            │\n",
      "│ 745444  ┆ 2024-03-20 ┆ 605141    ┆ Mookie      ┆ … ┆ walk       ┆ 0    ┆ 0          ┆ 0          │\n",
      "│         ┆            ┆           ┆ Betts       ┆   ┆            ┆      ┆            ┆            │\n",
      "│ …       ┆ …          ┆ …         ┆ …           ┆ … ┆ …          ┆ …    ┆ …          ┆ …          │\n",
      "│ 745444  ┆ 2024-03-20 ┆ 688363    ┆ Graham      ┆ … ┆ null       ┆ null ┆ null       ┆ null       │\n",
      "│         ┆            ┆           ┆ Pauley      ┆   ┆            ┆      ┆            ┆            │\n",
      "│ 745444  ┆ 2024-03-20 ┆ 688363    ┆ Graham      ┆ … ┆ strikeout  ┆ 0    ┆ 5          ┆ 2          │\n",
      "│         ┆            ┆           ┆ Pauley      ┆   ┆            ┆      ┆            ┆            │\n",
      "│ 745444  ┆ 2024-03-20 ┆ 669134    ┆ Luis        ┆ … ┆ null       ┆ null ┆ null       ┆ null       │\n",
      "│         ┆            ┆           ┆ Campusano   ┆   ┆            ┆      ┆            ┆            │\n",
      "│ 745444  ┆ 2024-03-20 ┆ 669134    ┆ Luis        ┆ … ┆ null       ┆ null ┆ null       ┆ null       │\n",
      "│         ┆            ┆           ┆ Campusano   ┆   ┆            ┆      ┆            ┆            │\n",
      "│ 745444  ┆ 2024-03-20 ┆ 669134    ┆ Luis        ┆ … ┆ field_out  ┆ 0    ┆ 5          ┆ 2          │\n",
      "│         ┆            ┆           ┆ Campusano   ┆   ┆            ┆      ┆            ┆            │\n",
      "└─────────┴────────────┴───────────┴─────────────┴───┴────────────┴──────┴────────────┴────────────┘\n"
     ]
    },
    {
     "name": "stderr",
     "output_type": "stream",
     "text": [
      "\n"
     ]
    }
   ],
   "source": [
    "# Call the get_data method\n",
    "game_data = scraper.get_data(game_list_input=[745444])\n",
    "# Call the get_data_df method\n",
    "data_df = scraper.get_data_df(data_list=game_data)\n",
    "print(data_df)"
   ]
  },
  {
   "cell_type": "markdown",
   "metadata": {
    "id": "3aTsH2G0qcLY"
   },
   "source": [
    "#### get_data() and get_data_df()\n",
    "\n",
    "Retrieves live game data for a list of game IDs and Converts a list of game data JSON objects into a Polars DataFrame."
   ]
  },
  {
   "cell_type": "code",
   "execution_count": 6,
   "metadata": {
    "colab": {
     "base_uri": "https://localhost:8080/",
     "height": 384
    },
    "executionInfo": {
     "elapsed": 609,
     "status": "error",
     "timestamp": 1726588171521,
     "user": {
      "displayName": "Thomas Nestico",
      "userId": "11737412841197753986"
     },
     "user_tz": 240
    },
    "id": "G-kPFh_zqcLY",
    "outputId": "18724b9a-215d-45fd-a748-e448a7f58830"
   },
   "outputs": [
    {
     "name": "stdout",
     "output_type": "stream",
     "text": [
      "This May Take a While. Progress Bar shows Completion of Data Retrieval.\n"
     ]
    },
    {
     "name": "stderr",
     "output_type": "stream",
     "text": [
      "Processing: 100%|██████████| 1/1 [00:00<00:00, 15.32iteration/s]"
     ]
    },
    {
     "name": "stdout",
     "output_type": "stream",
     "text": [
      "Converting Data to Dataframe.\n",
      "shape: (304, 78)\n",
      "┌─────────┬────────────┬───────────┬─────────────┬───┬────────────┬──────┬────────────┬────────────┐\n",
      "│ game_id ┆ game_date  ┆ batter_id ┆ batter_name ┆ … ┆ event_type ┆ rbi  ┆ away_score ┆ home_score │\n",
      "│ ---     ┆ ---        ┆ ---       ┆ ---         ┆   ┆ ---        ┆ ---  ┆ ---        ┆ ---        │\n",
      "│ i64     ┆ str        ┆ i64       ┆ str         ┆   ┆ str        ┆ i64  ┆ i64        ┆ i64        │\n",
      "╞═════════╪════════════╪═══════════╪═════════════╪═══╪════════════╪══════╪════════════╪════════════╡\n",
      "│ 745444  ┆ 2024-03-20 ┆ 605141    ┆ Mookie      ┆ … ┆ null       ┆ null ┆ null       ┆ null       │\n",
      "│         ┆            ┆           ┆ Betts       ┆   ┆            ┆      ┆            ┆            │\n",
      "│ 745444  ┆ 2024-03-20 ┆ 605141    ┆ Mookie      ┆ … ┆ null       ┆ null ┆ null       ┆ null       │\n",
      "│         ┆            ┆           ┆ Betts       ┆   ┆            ┆      ┆            ┆            │\n",
      "│ 745444  ┆ 2024-03-20 ┆ 605141    ┆ Mookie      ┆ … ┆ null       ┆ null ┆ null       ┆ null       │\n",
      "│         ┆            ┆           ┆ Betts       ┆   ┆            ┆      ┆            ┆            │\n",
      "│ 745444  ┆ 2024-03-20 ┆ 605141    ┆ Mookie      ┆ … ┆ null       ┆ null ┆ null       ┆ null       │\n",
      "│         ┆            ┆           ┆ Betts       ┆   ┆            ┆      ┆            ┆            │\n",
      "│ 745444  ┆ 2024-03-20 ┆ 605141    ┆ Mookie      ┆ … ┆ walk       ┆ 0    ┆ 0          ┆ 0          │\n",
      "│         ┆            ┆           ┆ Betts       ┆   ┆            ┆      ┆            ┆            │\n",
      "│ …       ┆ …          ┆ …         ┆ …           ┆ … ┆ …          ┆ …    ┆ …          ┆ …          │\n",
      "│ 745444  ┆ 2024-03-20 ┆ 688363    ┆ Graham      ┆ … ┆ null       ┆ null ┆ null       ┆ null       │\n",
      "│         ┆            ┆           ┆ Pauley      ┆   ┆            ┆      ┆            ┆            │\n",
      "│ 745444  ┆ 2024-03-20 ┆ 688363    ┆ Graham      ┆ … ┆ strikeout  ┆ 0    ┆ 5          ┆ 2          │\n",
      "│         ┆            ┆           ┆ Pauley      ┆   ┆            ┆      ┆            ┆            │\n",
      "│ 745444  ┆ 2024-03-20 ┆ 669134    ┆ Luis        ┆ … ┆ null       ┆ null ┆ null       ┆ null       │\n",
      "│         ┆            ┆           ┆ Campusano   ┆   ┆            ┆      ┆            ┆            │\n",
      "│ 745444  ┆ 2024-03-20 ┆ 669134    ┆ Luis        ┆ … ┆ null       ┆ null ┆ null       ┆ null       │\n",
      "│         ┆            ┆           ┆ Campusano   ┆   ┆            ┆      ┆            ┆            │\n",
      "│ 745444  ┆ 2024-03-20 ┆ 669134    ┆ Luis        ┆ … ┆ field_out  ┆ 0    ┆ 5          ┆ 2          │\n",
      "│         ┆            ┆           ┆ Campusano   ┆   ┆            ┆      ┆            ┆            │\n",
      "└─────────┴────────────┴───────────┴─────────────┴───┴────────────┴──────┴────────────┴────────────┘\n"
     ]
    },
    {
     "name": "stderr",
     "output_type": "stream",
     "text": [
      "\n"
     ]
    }
   ],
   "source": [
    "# Call the get_data method\n",
    "game_data = scraper.get_data(game_list_input=[745444])\n",
    "# Call the get_data_df method\n",
    "data_df = scraper.get_data_df(data_list=game_data)\n",
    "print(data_df)"
   ]
  },
  {
   "cell_type": "markdown",
   "metadata": {
    "id": "pZpMuM3UqcLY"
   },
   "source": [
    "#### get_teams()\n",
    "\n",
    "Retrieves information about MLB teams from the MLB Stats API and processes it into a Polars DataFrame."
   ]
  },
  {
   "cell_type": "code",
   "execution_count": 7,
   "metadata": {
    "executionInfo": {
     "elapsed": 2,
     "status": "aborted",
     "timestamp": 1726588171521,
     "user": {
      "displayName": "Thomas Nestico",
      "userId": "11737412841197753986"
     },
     "user_tz": 240
    },
    "id": "3QbQ9PVBqcLY"
   },
   "outputs": [
    {
     "name": "stdout",
     "output_type": "stream",
     "text": [
      "shape: (720, 10)\n",
      "┌─────────┬────────────┬───────────┬───────────┬───┬───────────┬───────────┬───────────┬───────────┐\n",
      "│ team_id ┆ city       ┆ name      ┆ franchise ┆ … ┆ parent_or ┆ league_id ┆ league_na ┆ parent_or │\n",
      "│ ---     ┆ ---        ┆ ---       ┆ ---       ┆   ┆ g         ┆ ---       ┆ me        ┆ g_abbrevi │\n",
      "│ i64     ┆ str        ┆ str       ┆ str       ┆   ┆ ---       ┆ i64       ┆ ---       ┆ ation     │\n",
      "│         ┆            ┆           ┆           ┆   ┆ str       ┆           ┆ str       ┆ ---       │\n",
      "│         ┆            ┆           ┆           ┆   ┆           ┆           ┆           ┆ str       │\n",
      "╞═════════╪════════════╪═══════════╪═══════════╪═══╪═══════════╪═══════════╪═══════════╪═══════════╡\n",
      "│ 100     ┆ Georgia    ┆ Yellow    ┆ Georgia   ┆ … ┆ Office of ┆ 107       ┆ College   ┆ null      │\n",
      "│         ┆ Tech       ┆ Jackets   ┆ Tech      ┆   ┆ the Commi ┆           ┆ Baseball  ┆           │\n",
      "│         ┆ Yellow     ┆           ┆ Yellow    ┆   ┆ ssioner   ┆           ┆           ┆           │\n",
      "│         ┆ Jackets    ┆           ┆ Jackets   ┆   ┆           ┆           ┆           ┆           │\n",
      "│ 101     ┆ Florida    ┆ Seminoles ┆ Florida   ┆ … ┆ Office of ┆ 107       ┆ College   ┆ null      │\n",
      "│         ┆ State      ┆           ┆ State     ┆   ┆ the Commi ┆           ┆ Baseball  ┆           │\n",
      "│         ┆ Seminoles  ┆           ┆ Seminoles ┆   ┆ ssioner   ┆           ┆           ┆           │\n",
      "│ 102     ┆ Round Rock ┆ Express   ┆ Round     ┆ … ┆ Texas     ┆ 112       ┆ Pacific   ┆ TEX       │\n",
      "│         ┆ Express    ┆           ┆ Rock      ┆   ┆ Rangers   ┆           ┆ Coast     ┆           │\n",
      "│         ┆            ┆           ┆ Express   ┆   ┆           ┆           ┆ League    ┆           │\n",
      "│ 103     ┆ Lake       ┆ Storm     ┆ Lake      ┆ … ┆ San Diego ┆ 110       ┆ Californi ┆ SD        │\n",
      "│         ┆ Elsinore   ┆           ┆ Elsinore  ┆   ┆ Padres    ┆           ┆ a League  ┆           │\n",
      "│         ┆ Storm      ┆           ┆ Storm     ┆   ┆           ┆           ┆           ┆           │\n",
      "│ 105     ┆ Sacramento ┆ River     ┆ Sacrament ┆ … ┆ San       ┆ 112       ┆ Pacific   ┆ SF        │\n",
      "│         ┆ River Cats ┆ Cats      ┆ o River   ┆   ┆ Francisco ┆           ┆ Coast     ┆           │\n",
      "│         ┆            ┆           ┆ Cats      ┆   ┆ Giants    ┆           ┆ League    ┆           │\n",
      "│ …       ┆ …          ┆ …         ┆ …         ┆ … ┆ …         ┆ …         ┆ …         ┆ …         │\n",
      "│ 6329    ┆ Pacific    ┆ Tigers    ┆ Pacific   ┆ … ┆ Office of ┆ 107       ┆ College   ┆ null      │\n",
      "│         ┆ Tigers     ┆           ┆ Tigers    ┆   ┆ the Commi ┆           ┆ Baseball  ┆           │\n",
      "│         ┆            ┆           ┆           ┆   ┆ ssioner   ┆           ┆           ┆           │\n",
      "│ 6330    ┆ Alabama-Bi ┆ Blazers   ┆ Alabama-B ┆ … ┆ Office of ┆ 107       ┆ College   ┆ null      │\n",
      "│         ┆ rmingham   ┆           ┆ irmingham ┆   ┆ the Commi ┆           ┆ Baseball  ┆           │\n",
      "│         ┆ Blazers    ┆           ┆ Blazers   ┆   ┆ ssioner   ┆           ┆           ┆           │\n",
      "│ 6331    ┆ Texas-San  ┆ Roadrunne ┆ Texas-San ┆ … ┆ Office of ┆ 107       ┆ College   ┆ null      │\n",
      "│         ┆ Antonio    ┆ rs        ┆ Antonio   ┆   ┆ the Commi ┆           ┆ Baseball  ┆           │\n",
      "│         ┆ Roadrunner ┆           ┆ Roadrunne ┆   ┆ ssioner   ┆           ┆           ┆           │\n",
      "│         ┆ s          ┆           ┆ rs        ┆   ┆           ┆           ┆           ┆           │\n",
      "│ 6333    ┆ Ashland    ┆ Eagles    ┆ Ashland   ┆ … ┆ Office of ┆ 107       ┆ College   ┆ null      │\n",
      "│         ┆ Eagles     ┆           ┆ Eagles    ┆   ┆ the Commi ┆           ┆ Baseball  ┆           │\n",
      "│         ┆            ┆           ┆           ┆   ┆ ssioner   ┆           ┆           ┆           │\n",
      "│ 6334    ┆ Japan      ┆ Japan     ┆ Japan     ┆ … ┆ Office of ┆ 162       ┆ Caribbean ┆ null      │\n",
      "│         ┆            ┆           ┆           ┆   ┆ the Commi ┆           ┆ Series    ┆           │\n",
      "│         ┆            ┆           ┆           ┆   ┆ ssioner   ┆           ┆           ┆           │\n",
      "└─────────┴────────────┴───────────┴───────────┴───┴───────────┴───────────┴───────────┴───────────┘\n"
     ]
    }
   ],
   "source": [
    "# Call the get_teams method\n",
    "teams = scraper.get_teams()\n",
    "print(teams)"
   ]
  },
  {
   "cell_type": "markdown",
   "metadata": {
    "id": "hH6mGl19qcLZ"
   },
   "source": [
    "#### get_leagues()\n",
    "Retrieves information about MLB leagues from the MLB Stats API and processes it into a Polars DataFrame."
   ]
  },
  {
   "cell_type": "code",
   "execution_count": 8,
   "metadata": {
    "executionInfo": {
     "elapsed": 3,
     "status": "aborted",
     "timestamp": 1726588171522,
     "user": {
      "displayName": "Thomas Nestico",
      "userId": "11737412841197753986"
     },
     "user_tz": 240
    },
    "id": "c_JY1Y2yqcLZ"
   },
   "outputs": [
    {
     "name": "stdout",
     "output_type": "stream",
     "text": [
      "shape: (116, 4)\n",
      "┌───────────┬────────────────────────┬─────────────────────┬──────────┐\n",
      "│ league_id ┆ league_name            ┆ league_abbreviation ┆ sport_id │\n",
      "│ ---       ┆ ---                    ┆ ---                 ┆ ---      │\n",
      "│ i64       ┆ str                    ┆ str                 ┆ i64      │\n",
      "╞═══════════╪════════════════════════╪═════════════════════╪══════════╡\n",
      "│ 103       ┆ American League        ┆ AL                  ┆ 1        │\n",
      "│ 104       ┆ National League        ┆ NL                  ┆ 1        │\n",
      "│ 114       ┆ Cactus League          ┆ CL                  ┆ null     │\n",
      "│ 115       ┆ Grapefruit League      ┆ GL                  ┆ null     │\n",
      "│ 117       ┆ International League   ┆ INT                 ┆ 11       │\n",
      "│ …         ┆ …                      ┆ …                   ┆ …        │\n",
      "│ 107       ┆ College Baseball       ┆ CBB                 ┆ 22       │\n",
      "│ 108       ┆ College Baseball       ┆ CBB                 ┆ 22       │\n",
      "│ 587       ┆ Showcase Games         ┆ SG                  ┆ 586      │\n",
      "│ 625       ┆ Tournament 12          ┆ T12                 ┆ null     │\n",
      "│ 577       ┆ National Pro Fastpitch ┆ NPF                 ┆ 576      │\n",
      "└───────────┴────────────────────────┴─────────────────────┴──────────┘\n"
     ]
    }
   ],
   "source": [
    "# Call the get_leagues method\n",
    "leagues = scraper.get_leagues()\n",
    "print(leagues)"
   ]
  },
  {
   "cell_type": "markdown",
   "metadata": {
    "id": "XejiTjzWqcLZ"
   },
   "source": [
    "#### get_player_games_list()\n",
    "Retrieves a list of game IDs for a specific player in a given season."
   ]
  },
  {
   "cell_type": "code",
   "execution_count": 9,
   "metadata": {
    "executionInfo": {
     "elapsed": 3,
     "status": "aborted",
     "timestamp": 1726588171522,
     "user": {
      "displayName": "Thomas Nestico",
      "userId": "11737412841197753986"
     },
     "user_tz": 240
    },
    "id": "L3JFiLqSqcLZ"
   },
   "outputs": [
    {
     "name": "stdout",
     "output_type": "stream",
     "text": [
      "[745444, 746175, 746165, 746167, 746168, 746166, 746170, 746169, 746163, 746897, 746896, 746895, 745925, 745924, 745923, 746162, 746161, 746164, 746158, 746157, 746159, 746160, 746156, 746154, 744863, 744864, 744867, 744949, 744946, 744947, 747211, 747210, 746152, 746155, 746153, 746149, 746147, 746151, 745421, 745422, 745343, 745342, 745341, 746150, 746148, 746142, 746144, 746146, 746145, 746143, 746713, 746710, 746711, 745818, 745817, 746140, 746138, 746141, 745497, 745494, 745495, 745737, 745735, 745736, 746139, 746137, 746136, 746134, 746135, 746130, 746543, 746542, 746538, 746539, 746131, 746132, 746780, 746775, 746777, 745319, 745317, 745320, 746133, 746128, 746126, 746127, 746129, 746122, 745557, 745556, 745558, 746450, 746447, 746449, 746123, 746121, 746125, 746124, 746118, 746119, 746117, 746361, 746362, 746364, 745389, 745386, 745631, 745636, 745627, 746116, 746120, 746115, 746113, 746112, 746114, 745953, 745954, 745951, 745950, 745144, 745140, 745139, 746109, 746107, 746110, 746111, 746108, 746106, 746105, 746103, 746102, 747156, 747158, 747157, 747155, 746185, 746178, 746104, 746099, 746098, 746101, 746097, 746100, 747069, 747070, 747071, 747067, 746015, 746014, 746011, 746094, 746096, 746092, 746093, 746095, 746088, 746494, 746499, 746496]\n"
     ]
    }
   ],
   "source": [
    "# Call the get_player_games_list method\n",
    "player_games = scraper.get_player_games_list(player_id=660271, season=2024, pitching=False)\n",
    "print(player_games)"
   ]
  },
  {
   "cell_type": "markdown",
   "metadata": {
    "id": "bfawIEWoqcLZ"
   },
   "source": [
    "#### get_game_types()\n",
    "Retrieves the different types of MLB games from the MLB Stats API and processes them into a Polars DataFrame."
   ]
  },
  {
   "cell_type": "code",
   "execution_count": 10,
   "metadata": {
    "executionInfo": {
     "elapsed": 3,
     "status": "aborted",
     "timestamp": 1726588171522,
     "user": {
      "displayName": "Thomas Nestico",
      "userId": "11737412841197753986"
     },
     "user_tz": 240
    },
    "id": "IIh-iRIHqcLZ"
   },
   "outputs": [
    {
     "name": "stdout",
     "output_type": "stream",
     "text": [
      "shape: (12, 2)\n",
      "┌─────┬────────────────────────────┐\n",
      "│ id  ┆ description                │\n",
      "│ --- ┆ ---                        │\n",
      "│ str ┆ str                        │\n",
      "╞═════╪════════════════════════════╡\n",
      "│ S   ┆ Spring Training            │\n",
      "│ R   ┆ Regular Season             │\n",
      "│ F   ┆ Wild Card Game             │\n",
      "│ D   ┆ Division Series            │\n",
      "│ L   ┆ League Championship Series │\n",
      "│ …   ┆ …                          │\n",
      "│ N   ┆ Nineteenth Century Series  │\n",
      "│ P   ┆ Playoffs                   │\n",
      "│ A   ┆ All-Star Game              │\n",
      "│ I   ┆ Intrasquad                 │\n",
      "│ E   ┆ Exhibition                 │\n",
      "└─────┴────────────────────────────┘\n"
     ]
    }
   ],
   "source": [
    "# Call the get_game_types method\n",
    "game_types = scraper.get_game_types()\n",
    "print(game_types)"
   ]
  },
  {
   "cell_type": "markdown",
   "metadata": {
    "id": "I2WzlA9KqcLZ"
   },
   "source": [
    "#### get_players()\n",
    "Retrieves player information from the MLB Stats API and processes them into a Polars DataFrame."
   ]
  },
  {
   "cell_type": "code",
   "execution_count": 11,
   "metadata": {
    "executionInfo": {
     "elapsed": 3,
     "status": "aborted",
     "timestamp": 1726588171522,
     "user": {
      "displayName": "Thomas Nestico",
      "userId": "11737412841197753986"
     },
     "user_tz": 240
    },
    "id": "M_atIYP3qcLa"
   },
   "outputs": [
    {
     "name": "stdout",
     "output_type": "stream",
     "text": [
      "shape: (1_442, 6)\n",
      "┌───────────┬─────────────┬────────────┬──────────────────┬──────────┬──────┐\n",
      "│ player_id ┆ first_name  ┆ last_name  ┆ name             ┆ position ┆ team │\n",
      "│ ---       ┆ ---         ┆ ---        ┆ ---              ┆ ---      ┆ ---  │\n",
      "│ i64       ┆ str         ┆ str        ┆ str              ┆ str      ┆ i64  │\n",
      "╞═══════════╪═════════════╪════════════╪══════════════════╪══════════╪══════╡\n",
      "│ 445276    ┆ Kenley      ┆ Jansen     ┆ Kenley Jansen    ┆ P        ┆ 111  │\n",
      "│ 445926    ┆ Jesse       ┆ Chavez     ┆ Jesse Chavez     ┆ P        ┆ 145  │\n",
      "│ 450203    ┆ Charles     ┆ Morton     ┆ Charlie Morton   ┆ P        ┆ 144  │\n",
      "│ 455119    ┆ Christopher ┆ Martin     ┆ Chris Martin     ┆ P        ┆ 111  │\n",
      "│ 458677    ┆ Justin      ┆ Wilson     ┆ Justin Wilson    ┆ P        ┆ 113  │\n",
      "│ …         ┆ …           ┆ …          ┆ …                ┆ …        ┆ …    │\n",
      "│ 814217    ┆ Samuel      ┆ Gardner    ┆ Sam Gardner      ┆ P        ┆ 158  │\n",
      "│ 814280    ┆ Landon      ┆ Tomkins    ┆ Landon Tomkins   ┆ P        ┆ 134  │\n",
      "│ 814300    ┆ Josimar     ┆ Cousin     ┆ Josimar Cousin   ┆ P        ┆ 145  │\n",
      "│ 814489    ┆ Brett       ┆ Wichrowski ┆ Brett Wichrowski ┆ P        ┆ 158  │\n",
      "│ 815084    ┆ Benjamin    ┆ Simon      ┆ Ben Simon        ┆ P        ┆ 121  │\n",
      "└───────────┴─────────────┴────────────┴──────────────────┴──────────┴──────┘\n"
     ]
    }
   ],
   "source": [
    "df_player = scraper.get_players(sport_id=1,season=2024,game_type=['S'])\n",
    "print(df_player)"
   ]
  },
  {
   "cell_type": "markdown",
   "metadata": {
    "id": "t0KQ2H6uqcLa"
   },
   "source": [
    "## Example"
   ]
  },
  {
   "cell_type": "markdown",
   "metadata": {
    "id": "uj9wsnXXqcLa"
   },
   "source": [
    "In this example we will return all the pitch-by-pitch data for Bryce Miller in the 2024 MLB Regular Season"
   ]
  },
  {
   "cell_type": "code",
   "execution_count": 12,
   "metadata": {
    "executionInfo": {
     "elapsed": 3,
     "status": "aborted",
     "timestamp": 1726588171522,
     "user": {
      "displayName": "Thomas Nestico",
      "userId": "11737412841197753986"
     },
     "user_tz": 240
    },
    "id": "0nCMzcPFqcLa"
   },
   "outputs": [
    {
     "name": "stdout",
     "output_type": "stream",
     "text": [
      "This May Take a While. Progress Bar shows Completion of Data Retrieval.\n"
     ]
    },
    {
     "name": "stderr",
     "output_type": "stream",
     "text": [
      "Processing: 100%|██████████| 31/31 [00:00<00:00, 37.83iteration/s]\n"
     ]
    },
    {
     "name": "stdout",
     "output_type": "stream",
     "text": [
      "Converting Data to Dataframe.\n",
      "shape: (9_130, 78)\n",
      "┌─────────┬────────────┬───────────┬─────────────┬───┬────────────┬──────┬────────────┬────────────┐\n",
      "│ game_id ┆ game_date  ┆ batter_id ┆ batter_name ┆ … ┆ event_type ┆ rbi  ┆ away_score ┆ home_score │\n",
      "│ ---     ┆ ---        ┆ ---       ┆ ---         ┆   ┆ ---        ┆ ---  ┆ ---        ┆ ---        │\n",
      "│ i64     ┆ str        ┆ i64       ┆ str         ┆   ┆ str        ┆ i64  ┆ i64        ┆ i64        │\n",
      "╞═════════╪════════════╪═══════════╪═════════════╪═══╪════════════╪══════╪════════════╪════════════╡\n",
      "│ 745279  ┆ 2024-03-31 ┆ 680776    ┆ Jarren      ┆ … ┆ null       ┆ null ┆ null       ┆ null       │\n",
      "│         ┆            ┆           ┆ Duran       ┆   ┆            ┆      ┆            ┆            │\n",
      "│ 745279  ┆ 2024-03-31 ┆ 680776    ┆ Jarren      ┆ … ┆ null       ┆ null ┆ null       ┆ null       │\n",
      "│         ┆            ┆           ┆ Duran       ┆   ┆            ┆      ┆            ┆            │\n",
      "│ 745279  ┆ 2024-03-31 ┆ 680776    ┆ Jarren      ┆ … ┆ null       ┆ null ┆ null       ┆ null       │\n",
      "│         ┆            ┆           ┆ Duran       ┆   ┆            ┆      ┆            ┆            │\n",
      "│ 745279  ┆ 2024-03-31 ┆ 680776    ┆ Jarren      ┆ … ┆ strikeout  ┆ 0    ┆ 0          ┆ 0          │\n",
      "│         ┆            ┆           ┆ Duran       ┆   ┆            ┆      ┆            ┆            │\n",
      "│ 745279  ┆ 2024-03-31 ┆ 646240    ┆ Rafael      ┆ … ┆ null       ┆ null ┆ null       ┆ null       │\n",
      "│         ┆            ┆           ┆ Devers      ┆   ┆            ┆      ┆            ┆            │\n",
      "│ …       ┆ …          ┆ …         ┆ …           ┆ … ┆ …          ┆ …    ┆ …          ┆ …          │\n",
      "│ 746334  ┆ 2024-09-23 ┆ 572138    ┆ Jon         ┆ … ┆ field_out  ┆ 0    ┆ 6          ┆ 1          │\n",
      "│         ┆            ┆           ┆ Singleton   ┆   ┆            ┆      ┆            ┆            │\n",
      "│ 746334  ┆ 2024-09-23 ┆ 605170    ┆ Victor      ┆ … ┆ null       ┆ null ┆ null       ┆ null       │\n",
      "│         ┆            ┆           ┆ Caratini    ┆   ┆            ┆      ┆            ┆            │\n",
      "│ 746334  ┆ 2024-09-23 ┆ 605170    ┆ Victor      ┆ … ┆ null       ┆ null ┆ null       ┆ null       │\n",
      "│         ┆            ┆           ┆ Caratini    ┆   ┆            ┆      ┆            ┆            │\n",
      "│ 746334  ┆ 2024-09-23 ┆ 605170    ┆ Victor      ┆ … ┆ null       ┆ null ┆ null       ┆ null       │\n",
      "│         ┆            ┆           ┆ Caratini    ┆   ┆            ┆      ┆            ┆            │\n",
      "│ 746334  ┆ 2024-09-23 ┆ 605170    ┆ Victor      ┆ … ┆ field_out  ┆ 0    ┆ 6          ┆ 1          │\n",
      "│         ┆            ┆           ┆ Caratini    ┆   ┆            ┆      ┆            ┆            │\n",
      "└─────────┴────────────┴───────────┴─────────────┴───┴────────────┴──────┴────────────┴────────────┘\n"
     ]
    }
   ],
   "source": [
    "import polars as pl\n",
    "# Bryce Player Id\n",
    "player_id = 682243\n",
    "season = 2024\n",
    "\n",
    "# Get Game IDs for Bryce Miler\n",
    "player_games = scraper.get_player_games_list(player_id=player_id, season=season, game_type=['R'], pitching=True)\n",
    "\n",
    "# Get Data for Bryce Miler\n",
    "data = scraper.get_data(game_list_input=player_games)\n",
    "df = scraper.get_data_df(data_list=data)\n",
    "# Print the data\n",
    "print(df)"
   ]
  },
  {
   "cell_type": "markdown",
   "metadata": {
    "id": "Ya241ikuqcLa"
   },
   "source": [
    "With the DataFrame, we can filter only pitches thrown by Bryce Miller this season and then group by pitch type to get the metrics for each pitch.\n",
    "\n",
    "We will be getting the following metrics:\n",
    "- pitches: Number of Pitches\n",
    "- start_speed: Initial Velocity of the Pitch (mph)\n",
    "- ivb: Induced Vertical Break (in)\n",
    "- hb: Horizontal Break (in)\n",
    "- spin_rate: Spin Rate (rpm)"
   ]
  },
  {
   "cell_type": "code",
   "execution_count": 13,
   "metadata": {
    "executionInfo": {
     "elapsed": 3,
     "status": "aborted",
     "timestamp": 1726588171522,
     "user": {
      "displayName": "Thomas Nestico",
      "userId": "11737412841197753986"
     },
     "user_tz": 240
    },
    "id": "9_M7NMO7qcLa"
   },
   "outputs": [
    {
     "name": "stdout",
     "output_type": "stream",
     "text": [
      "shape: (8, 8)\n",
      "┌────────────┬────────────┬─────────┬─────────────┬──────┬───────┬───────────┬────────────┐\n",
      "│ pitcher_id ┆ pitch_type ┆ pitches ┆ start_speed ┆ ivb  ┆ hb    ┆ spin_rate ┆ proportion │\n",
      "│ ---        ┆ ---        ┆ ---     ┆ ---         ┆ ---  ┆ ---   ┆ ---       ┆ ---        │\n",
      "│ i64        ┆ str        ┆ u32     ┆ f64         ┆ f64  ┆ f64   ┆ f64       ┆ f64        │\n",
      "╞════════════╪════════════╪═════════╪═════════════╪══════╪═══════╪═══════════╪════════════╡\n",
      "│ 682243     ┆ FF         ┆ 1162    ┆ 95.2        ┆ 18.3 ┆ 6.3   ┆ 2483.0    ┆ 0.422      │\n",
      "│ 682243     ┆ SI         ┆ 470     ┆ 94.7        ┆ 10.9 ┆ 16.0  ┆ 2407.0    ┆ 0.171      │\n",
      "│ 682243     ┆ FS         ┆ 469     ┆ 84.4        ┆ 0.4  ┆ 9.9   ┆ 912.0     ┆ 0.17       │\n",
      "│ 682243     ┆ ST         ┆ 234     ┆ 82.4        ┆ -5.3 ┆ -14.8 ┆ 2257.0    ┆ 0.085      │\n",
      "│ 682243     ┆ SL         ┆ 229     ┆ 86.6        ┆ 1.3  ┆ -3.2  ┆ 2541.0    ┆ 0.083      │\n",
      "│ 682243     ┆ KC         ┆ 122     ┆ 85.0        ┆ -6.8 ┆ -1.7  ┆ 2331.0    ┆ 0.044      │\n",
      "│ 682243     ┆ FC         ┆ 63      ┆ 92.1        ┆ 13.5 ┆ -0.3  ┆ 2551.0    ┆ 0.023      │\n",
      "│ 682243     ┆ null       ┆ 4       ┆ null        ┆ null ┆ null  ┆ null      ┆ 0.001      │\n",
      "└────────────┴────────────┴─────────┴─────────────┴──────┴───────┴───────────┴────────────┘\n"
     ]
    }
   ],
   "source": [
    "# Group the data by pitch type\n",
    "grouped_df = (\n",
    "    df.filter(pl.col(\"pitcher_id\") == player_id)\n",
    "    .group_by(['pitcher_id', 'pitch_type'])\n",
    "    .agg([\n",
    "        pl.col('is_pitch').drop_nans().count().alias('pitches'),\n",
    "        pl.col('start_speed').drop_nans().mean().round(1).alias('start_speed'),\n",
    "        pl.col('ivb').drop_nans().mean().round(1).alias('ivb'),\n",
    "        pl.col('hb').drop_nans().mean().round(1).alias('hb'),\n",
    "        pl.col('spin_rate').drop_nans().mean().round(0).alias('spin_rate'),\n",
    "    ])\n",
    "    .with_columns(\n",
    "        (pl.col('pitches') / pl.col('pitches').sum().over('pitcher_id')).round(3).alias('proportion')\n",
    "    )\n",
    "    ).sort('proportion', descending=True)\n",
    "\n",
    "# Display the grouped DataFrame\n",
    "print(grouped_df)"
   ]
  }
 ],
 "metadata": {
  "colab": {
   "provenance": []
  },
  "kernelspec": {
   "display_name": "Python 3",
   "language": "python",
   "name": "python3"
  },
  "language_info": {
   "codemirror_mode": {
    "name": "ipython",
    "version": 3
   },
   "file_extension": ".py",
   "mimetype": "text/x-python",
   "name": "python",
   "nbconvert_exporter": "python",
   "pygments_lexer": "ipython3",
   "version": "3.9.13"
  }
 },
 "nbformat": 4,
 "nbformat_minor": 0
}
